{
 "cells": [
  {
   "cell_type": "markdown",
   "id": "de27b61d-839b-4793-b393-a9f3f0aeba40",
   "metadata": {},
   "source": [
    "This is a numpy project which uses a survey dataset, about intoversion and extroversion!\n",
    "\n",
    "I have coded this along with the \"Python for Data Science: Master NumPy & Pandas on Real Data\" course that is instructed by Rune T on Udemy platform. \n",
    "\n",
    "at some parts, I have also made some modifications. "
   ]
  },
  {
   "cell_type": "code",
   "execution_count": 1,
   "id": "dd501c41-59e2-48cd-8d2d-b8115c948c99",
   "metadata": {},
   "outputs": [],
   "source": [
    "import numpy as np\n",
    "data = np.genfromtxt(\"dataset.csv\",dtype=int,delimiter=\"\\t\")"
   ]
  },
  {
   "cell_type": "code",
   "execution_count": 2,
   "id": "d0a15b24-f39e-43e4-9941-edd744e0b55f",
   "metadata": {},
   "outputs": [],
   "source": [
    "data = data[1:,:]"
   ]
  },
  {
   "cell_type": "code",
   "execution_count": 3,
   "id": "cb4a59f1-aa30-4247-a70a-bbbd14c41e97",
   "metadata": {},
   "outputs": [
    {
     "name": "stdout",
     "output_type": "stream",
     "text": [
      "[[   5   51 7107 ...    1   23    3]\n",
      " [   5   39 6354 ...    2   25    2]\n",
      " [   3   17 5397 ...    2   19    1]\n",
      " ...\n",
      " [   3   29 6618 ...    2   28    1]\n",
      " [   4   15 8321 ...    1   19    1]\n",
      " [   5   57 2950 ...    1   25    1]]\n",
      "(7188, 282)\n",
      "int64\n"
     ]
    }
   ],
   "source": [
    "print(data)\n",
    "print(data.shape)\n",
    "print(data.dtype)"
   ]
  },
  {
   "cell_type": "code",
   "execution_count": 4,
   "id": "a36d4021-22dd-4c3c-8f67-8fe2a1fc8051",
   "metadata": {},
   "outputs": [
    {
     "name": "stdout",
     "output_type": "stream",
     "text": [
      "[0 1 2 3]\n",
      "(array([0, 1, 2, 3]), array([  25, 4404,  990, 1769]))\n"
     ]
    }
   ],
   "source": [
    "## the last column refes to being extrovert/introvert\n",
    "## we want all the rows but only one column\n",
    "## we will name it as ie column as extract it as follows\n",
    "ie_column = (data[:,281])\n",
    "\n",
    "# types of the answers\n",
    "print(np.unique(ie_column))\n",
    "\n",
    "# now we want to evaluate how many of each the\n",
    "#participants have answered\n",
    "print(np.unique(ie_column, return_counts=True))"
   ]
  },
  {
   "cell_type": "code",
   "execution_count": 5,
   "id": "05f13147-016e-4348-9241-989b0e2da20c",
   "metadata": {},
   "outputs": [
    {
     "name": "stdout",
     "output_type": "stream",
     "text": [
      "7188\n"
     ]
    }
   ],
   "source": [
    "answer, count = np.unique(ie_column, return_counts=True)\n",
    "total = count.sum()\n",
    "print(total)"
   ]
  },
  {
   "cell_type": "code",
   "execution_count": 6,
   "id": "8f13540b-14d0-455f-8827-9f8a9de66165",
   "metadata": {},
   "outputs": [
    {
     "name": "stdout",
     "output_type": "stream",
     "text": [
      "No asnwers account for 0.35 % of the participants\n",
      "Introverts account for 61.27 % of the participants\n",
      "Extroverts account for 13.77 % of the participants\n",
      "Not identify account for 24.61 % of the participants\n"
     ]
    }
   ],
   "source": [
    "## getting the perventage of each one \n",
    "print(\"No asnwers account for\", round(count[0]/total*100,2),\"% of the participants\")\n",
    "print(\"Introverts account for\", round(count[1]/total*100,2),\"% of the participants\")\n",
    "print(\"Extroverts account for\", round(count[2]/total*100,2),\"% of the participants\")\n",
    "print(\"Not identify account for\", round(count[3]/total*100,2),\"% of the participants\")"
   ]
  },
  {
   "cell_type": "code",
   "execution_count": 7,
   "id": "4d9bbc77-c612-4d03-989a-37e3e9ded9a0",
   "metadata": {},
   "outputs": [],
   "source": [
    "## which question took the longer and shortest time to be answered@"
   ]
  },
  {
   "cell_type": "code",
   "execution_count": 8,
   "id": "a1b0aa00-bab7-42dc-8c1a-4d98e9fffcdd",
   "metadata": {},
   "outputs": [],
   "source": [
    "## we will directly copy the questions from the questionarre!\n",
    "\n",
    "questions = {\n",
    " \"Q1\" : \"I would never audition to be on a game show.\",\n",
    " \"Q2\" : \"I am not much of a flirt.\",\n",
    " \"Q3\" : \"I have to psych myself up before I am brave enough to make a phone call.\",\n",
    " \"Q4\" : \"I would hate living with room mates.\",\n",
    " \"Q5\" : \"I mostly listen to people in conversations.\",\n",
    " \"Q6\" : \"I reveal little about myself.\",\n",
    " \"Q7\" : \"I spend hours alone with my hobbies.\",\n",
    " \"Q8\" : \"I prefer to eat alone.\",\n",
    " \"Q9\" : \"I have trouble finding people I want to be friends with.\",\n",
    " \"Q10\" : \"I prefer to socialize 1 on 1, than with a group.\",\n",
    " \"Q11\" : \"I sometimes speak so quietly people sometimes have trouble hearing me.\",\n",
    " \"Q12\" : \"I do not like to get my picture taken.\",\n",
    " \"Q13\" : \"I can keep a conversation going with anyone about anything.\",\n",
    " \"Q14\" : \"I want a huge social circle.\",\n",
    " \"Q15\" : \"I talk to people when waiting in lines.\",\n",
    " \"Q16\" : \"I act wild and crazy.\",\n",
    " \"Q17\" : \"I am a bundle of joy.\",\n",
    " \"Q18\" : \"I love excitement.\",\n",
    " \"Q19\" : \"I&apos;d like to be in a parade.\",\n",
    " \"Q20\" : \"I am a flamboyant person.\",\n",
    " \"Q21\" : \"I am good at making impromptu speeches.\",\n",
    " \"Q22\" : \"I naturally emerge as a leader.\",\n",
    " \"Q23\" : \"I am spontaneous.\",\n",
    " \"Q24\" : \"I would enjoy being a sports team coach.\",\n",
    " \"Q25\" : \"I have a strong personality.\",\n",
    " \"Q26\" : \"I am excited by many different activities.\",\n",
    " \"Q27\" : \"I spend most of my time in fantasy worlds.\",\n",
    " \"Q28\" : \"I often feel lucky.\",\n",
    " \"Q29\" : \"I don't make eye contact when I talk with people.\",\n",
    " \"Q30\" : \"I have a monotone voice.\",\n",
    " \"Q31\" : \"I am a touchy feely person.\",\n",
    " \"Q32\" : \"I would like to try bungee jumping.\",\n",
    " \"Q33\" : \"I tend to be admired by others.\",\n",
    " \"Q34\" : \"I make big physical movements whenever I get excited.\",\n",
    " \"Q35\" : \"I am brave.\",\n",
    " \"Q36\" : \"I am always in the moment.\",\n",
    " \"Q37\" : \"I am involved with my community.\",\n",
    " \"Q38\" : \"I am good an entertaining children.\",\n",
    " \"Q39\" : \"I like formal occasions.\",\n",
    " \"Q40\" : \"I would have to be lost for a very long time before asking help.\",\n",
    " \"Q41\" : \"I do not care about sports.\",\n",
    " \"Q42\" : \"I prefer individual sports to team sports.\",\n",
    " \"Q43\" : \"My parents know nothing about my love life.\",\n",
    " \"Q44\" : \"I mostly listen to people in conversations.\",\n",
    " \"Q45\" : \"I never leave the door to my room open.\",\n",
    " \"Q46\" : \"I make a lot of hand motions when I talk.\",\n",
    " \"Q47\" : \"I take lots of pictures of my activities.\",\n",
    " \"Q48\" : \"When I was a child, I put on fake concerts and plays with my friends.\",\n",
    " \"Q49\" : \"I really like dancing.\",\n",
    " \"Q50\" : \"I would have difficulty describing myself to someone.\",\n",
    " \"Q51\" : \"My life would not make a good story.\",\n",
    " \"Q52\" : \"I am hesitant to give suggestions.\",\n",
    " \"Q53\" : \"I tire out quickly.\",\n",
    " \"Q54\" : \"I never tell people the important things about myself.\",\n",
    " \"Q55\" : \"I avoid going to unknown places.\",\n",
    " \"Q56\" : \"Going to the doctor is always awkward for me.\",\n",
    " \"Q57\" : \"I have not kept up with my old friends over the years.\",\n",
    " \"Q58\" : \"I have not been joyful for quite some time.\",\n",
    " \"Q59\" : \"I hate to ask for help.\",\n",
    " \"Q60\" : \"If I were to die, I would not want there to be a memorial for me.\",\n",
    " \"Q61\" : \"I hate shopping.\",\n",
    " \"Q62\" : \"I love to do impressions.\",\n",
    " \"Q63\" : \"I would be pleased if asked to speak at a funeral.\",\n",
    " \"Q64\" : \"I would never go to a dance club.\",\n",
    " \"Q65\" : \"I find it very hard to tell people I find them attractive.\",\n",
    " \"Q66\" : \"I hate people.\",\n",
    " \"Q67\" : \"I was an outcast in school.\",\n",
    " \"Q68\" : \"I would enjoy being a librarian.\",\n",
    " \"Q69\" : \"I am usually not single.\",\n",
    " \"Q70\" : \"I am able to stand up for myself.\",\n",
    " \"Q71\" : \"I would go surfing regularly if I lived on a beach.\",\n",
    " \"Q72\" : \"I have wanted to be a stand-up comedian.\",\n",
    " \"Q73\" : \"I am a high status person.\",\n",
    " \"Q74\" : \"I work out regularly.\",\n",
    " \"Q75\" : \"I laugh a lot.\",\n",
    " \"Q76\" : \"I like pranks.\",\n",
    " \"Q77\" : \"I am happy with my life.\",\n",
    " \"Q78\" : \"I am never at a loss for words.\",\n",
    " \"Q79\" : \"I feel healthy and vibrant most of the time.\",\n",
    " \"Q80\" : \"I love large parties.\",\n",
    " \"Q81\" : \"I am quiet around strangers.\",\n",
    " \"Q82\" : \"I don&#39;t talk a lot.\",\n",
    " \"Q83\" : \"I keep in the background.\",\n",
    " \"Q84\" : \"I don&#39;t like to draw attention to myself.\",\n",
    " \"Q85\" : \"I have little to say.\",\n",
    " \"Q86\" : \"I often feel blue.\",\n",
    " \"Q87\" : \"I am not really interested in others.\",\n",
    " \"Q88\" : \"I make people feel at ease.\",\n",
    " \"Q89\" : \"I don&#39;t mind being the center of attention.\",\n",
    " \"Q90\" : \"I start conversations.\",\n",
    " \"Q91\" : \"I talk to a lot of different people at parties.\"\n",
    "}\n"
   ]
  },
  {
   "cell_type": "code",
   "execution_count": 9,
   "id": "0a8279f0-6530-4926-b15d-03ce1641191f",
   "metadata": {},
   "outputs": [],
   "source": [
    "questions = np.array(list(questions.values()))"
   ]
  },
  {
   "cell_type": "code",
   "execution_count": 10,
   "id": "0ef6842e-dc7b-435d-a041-061b37cecca8",
   "metadata": {},
   "outputs": [
    {
     "name": "stdout",
     "output_type": "stream",
     "text": [
      "[[ 7107  2522  6180 ... 11548  4648  4609]\n",
      " [ 6354  3092  5243 ...  2827  3884 10409]\n",
      " [ 5397  2747  5262 ...  3337  1759  2691]\n",
      " ...\n",
      " [ 6618  2393  5768 ...  3815  2345  3425]\n",
      " [ 8321  6179  5037 ... 12000  1187 12000]\n",
      " [ 2950  2232  7095 ...  2780  1843  1901]]\n"
     ]
    }
   ],
   "source": [
    "## time elapsed\n",
    "## every third column refers to the time\n",
    "## we want all the rows and from the third column, \n",
    "#we want every third one\n",
    "time_elapsed = data[:,2:3*91+1:3]\n",
    "time_elapsed[time_elapsed > 12000] = 12000 \n",
    "print(time_elapsed)"
   ]
  },
  {
   "cell_type": "code",
   "execution_count": 11,
   "id": "97742b8b-e734-481d-82e1-bda38dd5445e",
   "metadata": {},
   "outputs": [
    {
     "name": "stdout",
     "output_type": "stream",
     "text": [
      "[4546.82874235 3738.59599332 5280.22356706 4297.39468559 4170.55606566\n",
      " 3552.03881469 3731.92529215 3537.96494157 4643.43057874 4533.14176405\n",
      " 4675.55870896 3901.4081803  4877.0582916  3406.21452421 4095.44852532\n",
      " 3134.57512521 3245.38007791 3049.24568726 3633.9531163  3901.74471341\n",
      " 4274.00417362 3604.15358932 3100.12284363 3976.56942126 3178.37186978\n",
      " 4241.53116305 3861.61101836 3267.64816361 4027.98288815 3812.72648859\n",
      " 3591.35642738 3440.41235392 3853.19184752 5145.3599054  2924.934335\n",
      " 3816.05634391 3468.16235392 3795.61101836 3610.32929883 6218.56190874\n",
      " 3403.74415693 4898.48831386 4298.21939343 4184.65651085 5024.52643294\n",
      " 4016.09780189 3866.00125209 5369.75542571 2901.78603228 4723.26252087\n",
      " 4454.29674457 4245.56441291 3500.79521425 4746.19115192 4180.61672231\n",
      " 3910.10406233 4830.02267668 4308.73970506 3501.59390651 5895.54243183\n",
      " 3166.21118531 3500.95061213 5060.0475793  3731.10100167 5288.2198108\n",
      " 3165.64079021 3645.14468559 3684.02698943 4401.40442404 3487.11338342\n",
      " 4517.58917641 3760.44922092 3539.81288258 2908.63258208 2862.25695604\n",
      " 2948.79257095 3032.79145799 4437.5114079  3855.9738453  3013.48720089\n",
      " 3326.99095715 3102.25987757 3271.27295492 3642.21104619 3265.22370618\n",
      " 3013.70200334 3895.08708959 3547.12659989 3755.28185865 2961.66263216\n",
      " 4066.33708959]\n",
      "(91,)\n"
     ]
    }
   ],
   "source": [
    "mean_elapsed = time_elapsed.mean(axis=0)\n",
    "print(mean_elapsed)\n",
    "print(mean_elapsed.shape)"
   ]
  },
  {
   "cell_type": "code",
   "execution_count": 12,
   "id": "b9e353eb-5097-46f5-99ee-2fa51818de08",
   "metadata": {},
   "outputs": [
    {
     "name": "stdout",
     "output_type": "stream",
     "text": [
      "[74 48 73 34 75 89 79 85 76 17 22 81 15 65 60 24 16 84 27 82 80 40 13 31\n",
      " 36 69 52 61 58  7 72 87  5 30 21 38 18 83 66 67 63  6  1 88 71 37 29 35\n",
      " 32 78 26 46 86 11 19 55 23 45 28 90 14  4 54 43 25 51 20  3 42 57 68 77\n",
      " 50 70  9  0  8 10 49 53 56 12 41 44 62 33  2 64 47 59 39]\n"
     ]
    }
   ],
   "source": [
    "## we want to first sort them\n",
    "print(mean_elapsed.argsort())"
   ]
  },
  {
   "cell_type": "code",
   "execution_count": 13,
   "id": "78196590-9316-4cdb-949b-383afa48d0ef",
   "metadata": {},
   "outputs": [],
   "source": [
    "questions_sorted = questions[mean_elapsed.argsort()]"
   ]
  },
  {
   "cell_type": "code",
   "execution_count": 14,
   "id": "93faf6bc-ee13-4c15-8456-93ed1ef34d82",
   "metadata": {},
   "outputs": [
    {
     "name": "stdout",
     "output_type": "stream",
     "text": [
      "<class 'numpy.ndarray'> ['I laugh a lot.' 'I really like dancing.' 'I work out regularly.'\n",
      " 'I am brave.' 'I like pranks.' 'I start conversations.'\n",
      " 'I love large parties.' 'I often feel blue.' 'I am happy with my life.'\n",
      " 'I love excitement.' 'I am spontaneous.' 'I don&#39;t talk a lot.'\n",
      " 'I act wild and crazy.' 'I hate people.' 'I hate shopping.'\n",
      " 'I have a strong personality.' 'I am a bundle of joy.'\n",
      " 'I have little to say.' 'I often feel lucky.' 'I keep in the background.'\n",
      " 'I am quiet around strangers.' 'I do not care about sports.'\n",
      " 'I want a huge social circle.' 'I would like to try bungee jumping.'\n",
      " 'I am involved with my community.' 'I am able to stand up for myself.'\n",
      " 'I tire out quickly.' 'I love to do impressions.'\n",
      " 'I hate to ask for help.' 'I prefer to eat alone.'\n",
      " 'I am a high status person.' 'I make people feel at ease.'\n",
      " 'I reveal little about myself.' 'I am a touchy feely person.'\n",
      " 'I naturally emerge as a leader.' 'I like formal occasions.'\n",
      " 'I&apos;d like to be in a parade.'\n",
      " 'I don&#39;t like to draw attention to myself.'\n",
      " 'I was an outcast in school.' 'I would enjoy being a librarian.'\n",
      " 'I would never go to a dance club.'\n",
      " 'I spend hours alone with my hobbies.' 'I am not much of a flirt.'\n",
      " 'I don&#39;t mind being the center of attention.'\n",
      " 'I have wanted to be a stand-up comedian.'\n",
      " 'I am good an entertaining children.' 'I have a monotone voice.'\n",
      " 'I am always in the moment.' 'I tend to be admired by others.'\n",
      " 'I feel healthy and vibrant most of the time.'\n",
      " 'I spend most of my time in fantasy worlds.'\n",
      " 'I take lots of pictures of my activities.'\n",
      " 'I am not really interested in others.'\n",
      " 'I do not like to get my picture taken.' 'I am a flamboyant person.'\n",
      " 'Going to the doctor is always awkward for me.'\n",
      " 'I would enjoy being a sports team coach.'\n",
      " 'I make a lot of hand motions when I talk.'\n",
      " \"I don't make eye contact when I talk with people.\"\n",
      " 'I talk to a lot of different people at parties.'\n",
      " 'I talk to people when waiting in lines.'\n",
      " 'I mostly listen to people in conversations.'\n",
      " 'I avoid going to unknown places.'\n",
      " 'I mostly listen to people in conversations.'\n",
      " 'I am excited by many different activities.'\n",
      " 'I am hesitant to give suggestions.'\n",
      " 'I am good at making impromptu speeches.'\n",
      " 'I would hate living with room mates.'\n",
      " 'My parents know nothing about my love life.'\n",
      " 'I have not been joyful for quite some time.' 'I am usually not single.'\n",
      " 'I am never at a loss for words.' 'My life would not make a good story.'\n",
      " 'I would go surfing regularly if I lived on a beach.'\n",
      " 'I prefer to socialize 1 on 1, than with a group.'\n",
      " 'I would never audition to be on a game show.'\n",
      " 'I have trouble finding people I want to be friends with.'\n",
      " 'I sometimes speak so quietly people sometimes have trouble hearing me.'\n",
      " 'I would have difficulty describing myself to someone.'\n",
      " 'I never tell people the important things about myself.'\n",
      " 'I have not kept up with my old friends over the years.'\n",
      " 'I can keep a conversation going with anyone about anything.'\n",
      " 'I prefer individual sports to team sports.'\n",
      " 'I never leave the door to my room open.'\n",
      " 'I would be pleased if asked to speak at a funeral.'\n",
      " 'I make big physical movements whenever I get excited.'\n",
      " 'I have to psych myself up before I am brave enough to make a phone call.'\n",
      " 'I find it very hard to tell people I find them attractive.'\n",
      " 'When I was a child, I put on fake concerts and plays with my friends.'\n",
      " 'If I were to die, I would not want there to be a memorial for me.'\n",
      " 'I would have to be lost for a very long time before asking help.']\n"
     ]
    }
   ],
   "source": [
    "print(type(questions_sorted),questions_sorted)"
   ]
  },
  {
   "cell_type": "code",
   "execution_count": 15,
   "id": "a881ca37-f7a2-4c4e-a406-99906042c81b",
   "metadata": {},
   "outputs": [
    {
     "name": "stdout",
     "output_type": "stream",
     "text": [
      "The five slowest questions to be replied are:\n",
      " ['I would have to be lost for a very long time before asking help.'\n",
      " 'If I were to die, I would not want there to be a memorial for me.'\n",
      " 'When I was a child, I put on fake concerts and plays with my friends.'\n",
      " 'I find it very hard to tell people I find them attractive.'\n",
      " 'I have to psych myself up before I am brave enough to make a phone call.']\n"
     ]
    }
   ],
   "source": [
    "print(\"The five slowest questions to be replied are:\\n\", questions_sorted[-1:-6:-1])"
   ]
  },
  {
   "cell_type": "code",
   "execution_count": 16,
   "id": "8670f6f1-5276-4b16-8d7f-4f0a0f7f2171",
   "metadata": {},
   "outputs": [],
   "source": [
    "## investigating intoverts vs extroverts\n",
    "# this way we split the two groups\n",
    "introverts = data[data[:,281]==1]\n",
    "extroverts = data[data[:,281]==2]"
   ]
  },
  {
   "cell_type": "code",
   "execution_count": 27,
   "id": "5113e7a8-d9e8-459b-8268-a61331244946",
   "metadata": {},
   "outputs": [
    {
     "name": "stdout",
     "output_type": "stream",
     "text": [
      "[[   3   17 5397 ...    2   19    1]\n",
      " [   5   41 3055 ...    1   23    1]\n",
      " [   2   77 1455 ...    1   22    1]\n",
      " ...\n",
      " [   3   29 6618 ...    2   28    1]\n",
      " [   4   15 8321 ...    1   19    1]\n",
      " [   5   57 2950 ...    1   25    1]] [[   5   39 6354 ...    2   25    2]\n",
      " [   1   76 2542 ...    1   18    2]\n",
      " [   4   34 2337 ...    0   19    2]\n",
      " ...\n",
      " [   1   67 1340 ...    1   34    2]\n",
      " [   2   39 4832 ...    1   44    2]\n",
      " [   1   22 6045 ...    1   47    2]]\n",
      "4404 of the participants are introverts\n",
      "990 of the participants are extroverts\n"
     ]
    }
   ],
   "source": [
    "print(introverts, extroverts)\n",
    "print(introverts.shape[0],\"of the participants are introverts\")\n",
    "print(extroverts.shape[0],\"of the participants are extroverts\")"
   ]
  },
  {
   "cell_type": "code",
   "execution_count": 28,
   "id": "0479d81f-59a8-4ad0-a022-a42c55f1d674",
   "metadata": {},
   "outputs": [
    {
     "name": "stdout",
     "output_type": "stream",
     "text": [
      "inroverts average age: 28.322661217075385\n",
      "extroverts average age: 28.558585858585857\n"
     ]
    }
   ],
   "source": [
    "## investigating the gender\n",
    "print(\"inroverts average age:\", introverts[:,280].mean())\n",
    "print(\"extroverts average age:\", extroverts[:,280].mean())\n"
   ]
  },
  {
   "cell_type": "code",
   "execution_count": 31,
   "id": "48586f8d-70d7-41a7-bd68-cea82792b1c1",
   "metadata": {},
   "outputs": [
    {
     "name": "stdout",
     "output_type": "stream",
     "text": [
      "(array([0, 1, 2, 3]), array([  50, 1726, 2503,  125]))\n",
      "total introverts answers 4404\n",
      "Not Answered Introverts 1.14\n",
      "Male Introverts 39.19\n",
      "Female Introverts 56.83\n",
      "Not identify Introverts 2.84\n"
     ]
    }
   ],
   "source": [
    "## gender based evaluation in each group\n",
    "introverts_gender = introverts[:,278]\n",
    "\n",
    "print(np.unique(introverts_gender, return_counts=True))\n",
    "#print(np.unique(extroverts_gender, return_counts=True))\n",
    "\n",
    "\n",
    "answer, count_intro = np.unique(introverts_gender, return_counts=True)\n",
    "total_intro = count_intro.sum()\n",
    "print(\"total introverts answers\",total_intro)\n",
    "\n",
    "## getting the perventage of each one \n",
    "print(\"Not Answered Introverts\", round(count_intro[0]/total_intro*100,2))\n",
    "print(\"Male Introverts\", round(count_intro[1]/total_intro*100,2))\n",
    "print(\"Female Introverts\", round(count_intro[2]/total_intro*100,2))\n",
    "print(\"Not identify Introverts\", round(count_intro[3]/total_intro*100,2))\n",
    "\n",
    "\n"
   ]
  },
  {
   "cell_type": "code",
   "execution_count": 34,
   "id": "19eb2a25-3f0a-4bf5-8b7e-08339a724271",
   "metadata": {},
   "outputs": [
    {
     "ename": "SyntaxError",
     "evalue": "invalid syntax (2831938332.py, line 15)",
     "output_type": "error",
     "traceback": [
      "\u001b[0;36m  File \u001b[0;32m\"/var/folders/_3/5rnqtrnn1hddt_wgk0xq2kdh0000gn/T/ipykernel_16460/2831938332.py\"\u001b[0;36m, line \u001b[0;32m15\u001b[0m\n\u001b[0;31m    print(\"Not identify Extroverts\", round(count_extro[3]/total_extro*100,2),\"% of the introvert populations\"))\u001b[0m\n\u001b[0m                                                                                                              ^\u001b[0m\n\u001b[0;31mSyntaxError\u001b[0m\u001b[0;31m:\u001b[0m invalid syntax\n"
     ]
    }
   ],
   "source": [
    "## gender based\n",
    "extroverts_gender = extroverts[:,278]\n",
    "print(np.unique(extroverts_gender, return_counts=True))\n",
    "#print(np.unique(extroverts_gender, return_counts=True))\n",
    "\n",
    "\n",
    "answer, count_extro = np.unique(extroverts_gender, return_counts=True)\n",
    "total_extro = count_extro.sum()\n",
    "print(\"total extro\", total_extro)\n",
    "\n",
    "## getting the perventage of each one \n",
    "print(\"Not Answered Extroverts\", round(count_extro[0]/total_extro*100,2),\"% of the introvert populations\")\n",
    "print(\"Males make up\", round(count_extro[1]/total_extro*100,2),\"% of the introvert populations\")\n",
    "print(\"Female Extroverts\", round(count_extro[2]/total_extro*100,2),\"% of the introvert populations\")\n",
    "print(\"Not identify Extroverts\", round(count_extro[3]/total_extro*100,2),\"% of the introvert populations\"))\n",
    "\n",
    "\n"
   ]
  },
  {
   "cell_type": "code",
   "execution_count": 21,
   "id": "97784283-192f-482d-a9c7-bc6122aedea5",
   "metadata": {},
   "outputs": [],
   "source": [
    "## what questions did each group rate themselves the highest\n",
    "introverts_ratings = introverts[:,0:91*3:3]\n",
    "extroverts_ratings = extroverts[:,0:91*3:3]"
   ]
  },
  {
   "cell_type": "code",
   "execution_count": 22,
   "id": "fb1099ae-099a-4893-a58e-9a0aacd45b1a",
   "metadata": {},
   "outputs": [],
   "source": [
    "introverts_avg_rating = introverts_ratings.mean(axis = 0)\n",
    "extroverts_avg_rating = extroverts_ratings.mean( axis = 0)"
   ]
  },
  {
   "cell_type": "code",
   "execution_count": 23,
   "id": "64d3ce22-447d-44f0-922d-e619acc0cfc1",
   "metadata": {},
   "outputs": [
    {
     "name": "stdout",
     "output_type": "stream",
     "text": [
      "[4.05699364 3.78860127 3.81880109 3.47865577 4.12897366 3.8140327\n",
      " 4.45708447 3.49704814 3.96752952 4.28746594 3.16144414 3.96594005\n",
      " 2.36080836 1.74545867 1.74523161 2.13919164 2.36671208 3.5640327\n",
      " 1.84287012 2.0236149  2.23342416 2.67847411 2.94732062 1.73001817\n",
      " 3.35876476 3.42279746 3.58378747 2.8780654  2.86489555 2.60921889\n",
      " 2.71594005 2.76226158 2.86784741 2.88964578 3.15145322 2.46412352\n",
      " 2.12170754 2.90554042 2.60876476 3.60286104 3.64396004 3.64214351\n",
      " 3.67279746 4.13147139 3.57992734 3.34809264 2.11080836 2.51544051\n",
      " 2.59287012 3.79405086 3.19527702 3.01998183 3.70413261 3.59014532\n",
      " 2.8133515  3.44391462 3.61376022 3.10127157 3.98274296 2.97456857\n",
      " 3.12238874 2.36920981 1.91099001 3.27565849 3.83832879 2.77497729\n",
      " 3.29904632 3.37783833 2.06789282 3.6219346  2.2681653  1.8140327\n",
      " 1.99591281 2.38851045 3.6846049  2.60217984 3.0828792  2.36217075\n",
      " 2.61285195 1.74069028 4.40440509 3.62579473 4.09559491 4.09309718\n",
      " 2.87057221 3.57334242 2.72502271 3.40576748 2.21662125 2.46412352\n",
      " 1.81108084] [2.65959596 2.37171717 2.43737374 2.37070707 2.92626263 2.44747475\n",
      " 3.30808081 2.06868687 2.42323232 3.05858586 1.75757576 2.66161616\n",
      " 4.05454545 3.39090909 3.29393939 3.48181818 3.7020202  4.62020202\n",
      " 3.29191919 3.49292929 3.61313131 4.01919192 4.13838384 2.86565657\n",
      " 4.46262626 4.51212121 2.66868687 3.57777778 1.7959596  1.65757576\n",
      " 3.55959596 3.47070707 3.76464646 3.97878788 4.05454545 3.37878788\n",
      " 3.31111111 3.96060606 3.70505051 2.63737374 2.87878788 2.74848485\n",
      " 3.06363636 2.91717172 2.74343434 4.08888889 3.00505051 3.51717172\n",
      " 3.75656566 2.55959596 1.9959596  1.86262626 2.46464646 2.45656566\n",
      " 1.79494949 2.37777778 2.70909091 2.18282828 2.97575758 2.02121212\n",
      " 2.2030303  3.35757576 3.12626263 1.87676768 2.6030303  1.75454545\n",
      " 2.4        2.44040404 2.85555556 4.35353535 3.13737374 2.65252525\n",
      " 2.88686869 2.96969697 4.56262626 3.35858586 3.82626263 3.57676768\n",
      " 3.66363636 3.76666667 2.46464646 1.54141414 2.03030303 2.31010101\n",
      " 1.5        2.72828283 1.68989899 4.18080808 4.03838384 4.4\n",
      " 4.03434343]\n",
      "(91,) (91,)\n"
     ]
    }
   ],
   "source": [
    "print(introverts_avg_rating, extroverts_avg_rating)\n",
    "print(introverts_avg_rating.shape, extroverts_avg_rating.shape)\n"
   ]
  },
  {
   "cell_type": "code",
   "execution_count": 24,
   "id": "9df09d06-0bc8-4ad0-b382-ebdd7ec0dafb",
   "metadata": {},
   "outputs": [
    {
     "name": "stdout",
     "output_type": "stream",
     "text": [
      "introvert rate themselves the highest for: \n",
      " I spend hours alone with my hobbies.\n"
     ]
    }
   ],
   "source": [
    "print(\"introvert rate themselves the highest for: \\n\", questions[introverts_avg_rating.argmax()])"
   ]
  },
  {
   "cell_type": "code",
   "execution_count": 25,
   "id": "fe7ae299-cd01-4eae-82ff-52992f5b160d",
   "metadata": {},
   "outputs": [
    {
     "name": "stdout",
     "output_type": "stream",
     "text": [
      "extroverts rate themselves the highest for: \n",
      " I love excitement.\n"
     ]
    }
   ],
   "source": [
    "print(\"extroverts rate themselves the highest for: \\n\", questions[extroverts_avg_rating.argmax()])"
   ]
  },
  {
   "cell_type": "code",
   "execution_count": 26,
   "id": "ca713837-e0d9-4bd7-aa1e-f2b21ad726b9",
   "metadata": {},
   "outputs": [
    {
     "data": {
      "image/png": "[encoded data removed]",
      "text/plain": [
       "<Figure size 640x480 with 1 Axes>"
      ]
     },
     "metadata": {},
     "output_type": "display_data"
    }
   ],
   "source": [
    "## is there a connection between question and time elapsed\n",
    "import matplotlib.pyplot as plt \n",
    "\n",
    "len_vectorize = np.vectorize(len)\n",
    "length_of_questions = len_vectorize(questions)\n",
    "\n",
    "## plotting \n",
    "plt.xlabel(\"Time eplapsed\")\n",
    "plt.ylabel(\"Length of the questions\")\n",
    "plt.scatter(length_of_questions, mean_elapsed, color='red')\n",
    "## looking at the plot we can understand \n",
    "## that there is actually a connection\n",
    "a, b = np.polyfit(length_of_questions, mean_elapsed, 1)\n",
    "# we will try to fit this data as good as possible to this straight line!\n",
    "plt.plot(length_of_questions, a*length_of_questions + b, color=\"g\")\n",
    "plt.show()"
   ]
  },
  {
   "cell_type": "code",
   "execution_count": null,
   "id": "ec75340f-8d20-4bc9-af89-780a6fffaded",
   "metadata": {},
   "outputs": [],
   "source": []
  },
  {
   "cell_type": "code",
   "execution_count": null,
   "id": "7e743487-16cf-4030-bad3-f1018e377553",
   "metadata": {},
   "outputs": [],
   "source": []
  },
  {
   "cell_type": "code",
   "execution_count": null,
   "id": "519fc51c-1fa8-43ee-8422-0827ccc16cef",
   "metadata": {},
   "outputs": [],
   "source": []
  },
  {
   "cell_type": "code",
   "execution_count": null,
   "id": "b4459386-4dde-4db8-8433-2d9e48b118a6",
   "metadata": {},
   "outputs": [],
   "source": []
  }
 ],
 "metadata": {
  "kernelspec": {
   "display_name": "Python 3 (ipykernel)",
   "language": "python",
   "name": "python3"
  },
  "language_info": {
   "codemirror_mode": {
    "name": "ipython",
    "version": 3
   },
   "file_extension": ".py",
   "mimetype": "text/x-python",
   "name": "python",
   "nbconvert_exporter": "python",
   "pygments_lexer": "ipython3",
   "version": "3.7.13"
  }
 },
 "nbformat": 4,
 "nbformat_minor": 5
}
